{
 "cells": [
  {
   "cell_type": "code",
   "execution_count": 1,
   "metadata": {},
   "outputs": [],
   "source": [
    "# Dependencies\n",
    "import matplotlib.pyplot as plt\n",
    "%matplotlib inline\n",
    "\n",
    "import os\n",
    "#import numpy as np\n",
    "from PIL import Image"
   ]
  },
  {
   "cell_type": "code",
   "execution_count": null,
   "metadata": {},
   "outputs": [],
   "source": []
  },
  {
   "cell_type": "code",
   "execution_count": 2,
   "metadata": {},
   "outputs": [],
   "source": [
    "# Function to rotate images so they look upright\n",
    "def rotate_img(img_path, rt_degr):\n",
    "    chair = Image.open(img_path)\n",
    "    return chair.rotate(rt_degr, expand=1)"
   ]
  },
  {
   "cell_type": "markdown",
   "metadata": {},
   "source": [
    "### Coffee Mug"
   ]
  },
  {
   "cell_type": "code",
   "execution_count": 12,
   "metadata": {},
   "outputs": [],
   "source": [
    "# Rotate the turned-on-its-side image so the object appears upright\n",
    "img_rt_270 = rotate_img(\"../images/objects/coffee_mug/coffee_mug-on_its_side.jpg\", 270)\n",
    "\n",
    "# Save the rotated image to our images folders (uncomment to resave)\n",
    "#img_rt_270.save(\"../images/objects/coffee_mug/coffee_mug-rotated_from_side.jpg\")\n",
    "#img_rt_270.save(\"../images/positions/rotated-from_side/coffee_mug-rotated_from_side.jpg\")"
   ]
  },
  {
   "cell_type": "code",
   "execution_count": 7,
   "metadata": {},
   "outputs": [],
   "source": [
    "# Rotate the turned-upside_down image so the object appears upright\n",
    "img_rt_180 = rotate_img(\"../images/objects/coffee_mug/coffee_mug-upside_down.jpg\", 180)\n",
    "\n",
    "# Save the rotated image to our images folder (uncomment to resave)\n",
    "#img_rt_180.save(\"../images/objects/coffee_mug/coffee_mug-rotated_upside_down.jpg\")\n",
    "#img_rt_180.save(\"../images/positions/rotated-upside_down/coffee_mug-rotated_upside_down.jpg\")"
   ]
  },
  {
   "cell_type": "markdown",
   "metadata": {},
   "source": [
    "### Hammer"
   ]
  },
  {
   "cell_type": "code",
   "execution_count": 13,
   "metadata": {},
   "outputs": [],
   "source": [
    "# Rotate the turned-on-its-side image so the object appears upright\n",
    "img_rt_270 = rotate_img(\"../images/objects/hammer/hammer-on_its_side.jpg\", 270)\n",
    "\n",
    "# Save the rotated image to our images folders (uncomment to resave)\n",
    "#img_rt_270.save(\"../images/objects/hammer/hammer-rotated_from_side.jpg\")\n",
    "#img_rt_270.save(\"../images/positions/rotated-from_side/hammer-rotated_from_side.jpg\")"
   ]
  },
  {
   "cell_type": "code",
   "execution_count": 10,
   "metadata": {},
   "outputs": [],
   "source": [
    "# Rotate the turned-upside_down image so the object appears upright\n",
    "img_rt_180 = rotate_img(\"../images/objects/hammer/hammer-upside_down.jpg\", 180)\n",
    "\n",
    "# Save the rotated image to our images folder (uncomment to resave)\n",
    "#img_rt_180.save(\"../images/objects/hammer/hammer-rotated_upside_down.jpg\")\n",
    "#img_rt_180.save(\"../images/positions/rotated-upside_down/hammer-rotated_upside_down.jpg\")"
   ]
  },
  {
   "cell_type": "markdown",
   "metadata": {},
   "source": [
    "### Laptop"
   ]
  },
  {
   "cell_type": "code",
   "execution_count": 14,
   "metadata": {},
   "outputs": [],
   "source": [
    "# Rotate the turned-on-its-side image so the object appears upright\n",
    "img_rt_270 = rotate_img(\"../images/objects/laptop/laptop-on_its_side.jpg\", 270)\n",
    "\n",
    "# Save the rotated image to our images folders (uncomment to resave)\n",
    "#img_rt_270.save(\"../images/objects/laptop/laptop-rotated_from_side.jpg\")\n",
    "#img_rt_270.save(\"../images/positions/rotated-from_side/laptop-rotated_from_side.jpg\")"
   ]
  },
  {
   "cell_type": "code",
   "execution_count": 15,
   "metadata": {},
   "outputs": [],
   "source": [
    "# Rotate the turned-upside_down image so the object appears upright\n",
    "img_rt_180 = rotate_img(\"../images/objects/laptop/laptop-upside_down.jpg\", 180)\n",
    "\n",
    "# Save the rotated image to our images folder (uncomment to resave)\n",
    "#img_rt_180.save(\"../images/objects/laptop/laptop-rotated_upside_down.jpg\")\n",
    "#img_rt_180.save(\"../images/positions/rotated-upside_down/laptop-rotated_upside_down.jpg\")"
   ]
  },
  {
   "cell_type": "markdown",
   "metadata": {},
   "source": [
    "### Pot"
   ]
  },
  {
   "cell_type": "code",
   "execution_count": 17,
   "metadata": {},
   "outputs": [],
   "source": [
    "# Rotate the turned-on-its-side image so the object appears upright\n",
    "#img_rt_300 = rotate_img(\"../images/objects/pot/pot-on_its_side.jpg\", 300)\n",
    "\n",
    "# Save the rotated image to our images folders (uncomment to resave)\n",
    "#img_rt_300.save(\"../images/objects/pot/pot-rotated_from_side.jpg\")\n",
    "#img_rt_300.save(\"../images/positions/rotated-from_side/pot-rotated_from_side.jpg\")"
   ]
  },
  {
   "cell_type": "code",
   "execution_count": 18,
   "metadata": {},
   "outputs": [],
   "source": [
    "# Rotate the turned-upside_down image so the object appears upright\n",
    "img_rt_180 = rotate_img(\"../images/objects/pot/pot-upside_down.jpg\", 180)\n",
    "\n",
    "# Save the rotated image to our images folder (uncomment to resave)\n",
    "#img_rt_180.save(\"../images/objects/pot/pot-rotated_upside_down.jpg\")\n",
    "#img_rt_180.save(\"../images/positions/rotated-upside_down/pot-rotated_upside_down.jpg\")"
   ]
  },
  {
   "cell_type": "markdown",
   "metadata": {},
   "source": [
    "### Soap Dispenser"
   ]
  },
  {
   "cell_type": "code",
   "execution_count": 20,
   "metadata": {},
   "outputs": [],
   "source": [
    "# Rotate the turned-on-its-side image so the object appears upright\n",
    "img_rt_270 = rotate_img(\"../images/objects/soap_dispenser/soap_dispenser-on_its_side.jpg\", 270)\n",
    "\n",
    "# Save the rotated image to our images folders (uncomment to resave)\n",
    "#img_rt_270.save(\"../images/objects/soap_dispenser/soap_dispenser-rotated_from_side.jpg\")\n",
    "#img_rt_270.save(\"../images/positions/rotated-from_side/soap_dispenser-rotated_from_side.jpg\")"
   ]
  },
  {
   "cell_type": "code",
   "execution_count": 21,
   "metadata": {},
   "outputs": [],
   "source": [
    "# Rotate the turned-upside_down image so the object appears upright\n",
    "img_rt_180 = rotate_img(\"../images/objects/soap_dispenser/soap_dispenser-upside_down.jpg\", 180)\n",
    "\n",
    "# Save the rotated image to our images folder (uncomment to resave)\n",
    "#img_rt_180.save(\"../images/objects/soap_dispenser/soap_dispenser-rotated_upside_down.jpg\")\n",
    "#img_rt_180.save(\"../images/positions/rotated-upside_down/soap_dispenser-rotated_upside_down.jpg\")"
   ]
  },
  {
   "cell_type": "markdown",
   "metadata": {},
   "source": [
    "### Sunglasses"
   ]
  },
  {
   "cell_type": "code",
   "execution_count": 22,
   "metadata": {},
   "outputs": [],
   "source": [
    "# Rotate the turned-on-its-side image so the object appears upright\n",
    "img_rt_270 = rotate_img(\"../images/objects/sunglasses/sunglasses-on_its_side.jpg\", 270)\n",
    "\n",
    "# Save the rotated image to our images folders (uncomment to resave)\n",
    "#img_rt_270.save(\"../images/objects/sunglasses/sunglasses-rotated_from_side.jpg\")\n",
    "#img_rt_270.save(\"../images/positions/rotated-from_side/sunglasses-rotated_from_side.jpg\")"
   ]
  },
  {
   "cell_type": "code",
   "execution_count": 23,
   "metadata": {},
   "outputs": [],
   "source": [
    "# Rotate the turned-upside_down image so the object appears upright\n",
    "img_rt_180 = rotate_img(\"../images/objects/sunglasses/sunglasses-upside_down.jpg\", 180)\n",
    "\n",
    "# Save the rotated image to our images folder (uncomment to resave)\n",
    "#img_rt_180.save(\"../images/objects/sunglasses/sunglasses-rotated_upside_down.jpg\")\n",
    "#img_rt_180.save(\"../images/positions/rotated-upside_down/sunglasses-rotated_upside_down.jpg\")"
   ]
  },
  {
   "cell_type": "markdown",
   "metadata": {},
   "source": [
    "### Umbrella"
   ]
  },
  {
   "cell_type": "code",
   "execution_count": null,
   "metadata": {},
   "outputs": [],
   "source": [
    "# Rotate the turned-on-its-side image so the object appears upright\n",
    "#img_rt_300 = rotate_img(\"../images/objects/umbrella/umbrella-on_its_side.jpg\", 300)\n",
    "\n",
    "# Save the rotated image to our images folders (uncomment to resave)\n",
    "#img_rt_300.save(\"../images/objects/umbrella/umbrella-rotated_from_side.jpg\")\n",
    "#img_rt_300.save(\"../images/positions/rotated-from_side/umbrella-rotated_from_side.jpg\")"
   ]
  },
  {
   "cell_type": "code",
   "execution_count": 24,
   "metadata": {},
   "outputs": [],
   "source": [
    "# Rotate the turned-upside_down image so the object appears upright\n",
    "img_rt_180 = rotate_img(\"../images/objects/umbrella/umbrella-upside_down.jpg\", 180)\n",
    "\n",
    "# Save the rotated image to our images folder (uncomment to resave)\n",
    "#img_rt_180.save(\"../images/objects/umbrella/umbrella-rotated_upside_down.jpg\")\n",
    "#img_rt_180.save(\"../images/positions/rotated-upside_down/umbrella-rotated_upside_down.jpg\")"
   ]
  },
  {
   "cell_type": "markdown",
   "metadata": {},
   "source": [
    "### Wine Bottle"
   ]
  },
  {
   "cell_type": "code",
   "execution_count": 25,
   "metadata": {},
   "outputs": [],
   "source": [
    "# Rotate the turned-on-its-side image so the object appears upright\n",
    "img_rt_270 = rotate_img(\"../images/objects/wine_bottle/wine_bottle-on_its_side.jpg\", 270)\n",
    "\n",
    "# Save the rotated image to our images folders (uncomment to resave)\n",
    "#img_rt_270.save(\"../images/objects/wine_bottle/wine_bottle-rotated_from_side.jpg\")\n",
    "#img_rt_270.save(\"../images/positions/rotated-from_side/wine_bottle-rotated_from_side.jpg\")"
   ]
  },
  {
   "cell_type": "code",
   "execution_count": 26,
   "metadata": {},
   "outputs": [],
   "source": [
    "# Rotate the turned-upside_down image so the object appears upright\n",
    "img_rt_180 = rotate_img(\"../images/objects/wine_bottle/wine_bottle-upside_down.jpg\", 180)\n",
    "\n",
    "# Save the rotated image to our images folder (uncomment to resave)\n",
    "#img_rt_180.save(\"../images/objects/wine_bottle/wine_bottle-rotated_upside_down.jpg\")\n",
    "#img_rt_180.save(\"../images/positions/rotated-upside_down/wine_bottle-rotated_upside_down.jpg\")"
   ]
  },
  {
   "cell_type": "code",
   "execution_count": null,
   "metadata": {},
   "outputs": [],
   "source": []
  }
 ],
 "metadata": {
  "kernelspec": {
   "display_name": "Python 3",
   "language": "python",
   "name": "python3"
  },
  "language_info": {
   "codemirror_mode": {
    "name": "ipython",
    "version": 3
   },
   "file_extension": ".py",
   "mimetype": "text/x-python",
   "name": "python",
   "nbconvert_exporter": "python",
   "pygments_lexer": "ipython3",
   "version": "3.6.10"
  }
 },
 "nbformat": 4,
 "nbformat_minor": 2
}
