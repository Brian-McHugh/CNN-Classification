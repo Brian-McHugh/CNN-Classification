{
 "cells": [
  {
   "cell_type": "code",
   "execution_count": 1,
   "metadata": {},
   "outputs": [],
   "source": [
    "import pandas as pd\n",
    "import numpy as np"
   ]
  },
  {
   "cell_type": "code",
   "execution_count": 2,
   "metadata": {},
   "outputs": [
    {
     "data": {
      "text/html": [
       "<div>\n",
       "<style scoped>\n",
       "    .dataframe tbody tr th:only-of-type {\n",
       "        vertical-align: middle;\n",
       "    }\n",
       "\n",
       "    .dataframe tbody tr th {\n",
       "        vertical-align: top;\n",
       "    }\n",
       "\n",
       "    .dataframe thead th {\n",
       "        text-align: right;\n",
       "    }\n",
       "</style>\n",
       "<table border=\"1\" class=\"dataframe\">\n",
       "  <thead>\n",
       "    <tr style=\"text-align: right;\">\n",
       "      <th></th>\n",
       "      <th>id</th>\n",
       "      <th>class</th>\n",
       "      <th>position</th>\n",
       "      <th>file</th>\n",
       "      <th>horizontal_symmetry</th>\n",
       "      <th>vertical_symmetry</th>\n",
       "      <th>vgg_pixels</th>\n",
       "      <th>vgg1</th>\n",
       "      <th>vgg1_conf</th>\n",
       "      <th>vgg1_correct</th>\n",
       "      <th>...</th>\n",
       "      <th>NAS1</th>\n",
       "      <th>NAS1_conf</th>\n",
       "      <th>NAS1_correct</th>\n",
       "      <th>NAS2</th>\n",
       "      <th>NAS2_conf</th>\n",
       "      <th>NAS2_correct</th>\n",
       "      <th>NAS3</th>\n",
       "      <th>NAS3_conf</th>\n",
       "      <th>NAS3_correct</th>\n",
       "      <th>NAS_correct</th>\n",
       "    </tr>\n",
       "  </thead>\n",
       "  <tbody>\n",
       "    <tr>\n",
       "      <th>0</th>\n",
       "      <td>1</td>\n",
       "      <td>coffee_mug</td>\n",
       "      <td>back</td>\n",
       "      <td>coffee_mug-back.jpg</td>\n",
       "      <td>0</td>\n",
       "      <td>0</td>\n",
       "      <td>224</td>\n",
       "      <td>cup</td>\n",
       "      <td>0.54</td>\n",
       "      <td>0</td>\n",
       "      <td>...</td>\n",
       "      <td>coffee_mug</td>\n",
       "      <td>0.83</td>\n",
       "      <td>1</td>\n",
       "      <td>cup</td>\n",
       "      <td>0.03</td>\n",
       "      <td>0</td>\n",
       "      <td>espresso</td>\n",
       "      <td>0.00</td>\n",
       "      <td>0</td>\n",
       "      <td>1</td>\n",
       "    </tr>\n",
       "    <tr>\n",
       "      <th>1</th>\n",
       "      <td>2</td>\n",
       "      <td>coffee_mug</td>\n",
       "      <td>from_left</td>\n",
       "      <td>coffee_mug-from_left.jpg</td>\n",
       "      <td>0</td>\n",
       "      <td>0</td>\n",
       "      <td>224</td>\n",
       "      <td>coffee_mug</td>\n",
       "      <td>0.62</td>\n",
       "      <td>1</td>\n",
       "      <td>...</td>\n",
       "      <td>coffee_mug</td>\n",
       "      <td>0.78</td>\n",
       "      <td>1</td>\n",
       "      <td>cup</td>\n",
       "      <td>0.06</td>\n",
       "      <td>0</td>\n",
       "      <td>espresso</td>\n",
       "      <td>0.00</td>\n",
       "      <td>0</td>\n",
       "      <td>1</td>\n",
       "    </tr>\n",
       "    <tr>\n",
       "      <th>2</th>\n",
       "      <td>3</td>\n",
       "      <td>coffee_mug</td>\n",
       "      <td>from_right</td>\n",
       "      <td>coffee_mug-from_right.jpg</td>\n",
       "      <td>0</td>\n",
       "      <td>0</td>\n",
       "      <td>224</td>\n",
       "      <td>coffee_mug</td>\n",
       "      <td>0.45</td>\n",
       "      <td>1</td>\n",
       "      <td>...</td>\n",
       "      <td>coffee_mug</td>\n",
       "      <td>0.71</td>\n",
       "      <td>1</td>\n",
       "      <td>cup</td>\n",
       "      <td>0.11</td>\n",
       "      <td>0</td>\n",
       "      <td>espresso</td>\n",
       "      <td>0.02</td>\n",
       "      <td>0</td>\n",
       "      <td>1</td>\n",
       "    </tr>\n",
       "    <tr>\n",
       "      <th>3</th>\n",
       "      <td>4</td>\n",
       "      <td>coffee_mug</td>\n",
       "      <td>on_its_side</td>\n",
       "      <td>coffee_mug-on_its_side.jpg</td>\n",
       "      <td>0</td>\n",
       "      <td>0</td>\n",
       "      <td>224</td>\n",
       "      <td>toilet_tissue</td>\n",
       "      <td>0.16</td>\n",
       "      <td>0</td>\n",
       "      <td>...</td>\n",
       "      <td>coffee_mug</td>\n",
       "      <td>0.51</td>\n",
       "      <td>1</td>\n",
       "      <td>water_jug</td>\n",
       "      <td>0.09</td>\n",
       "      <td>0</td>\n",
       "      <td>pitcher</td>\n",
       "      <td>0.07</td>\n",
       "      <td>0</td>\n",
       "      <td>1</td>\n",
       "    </tr>\n",
       "    <tr>\n",
       "      <th>4</th>\n",
       "      <td>5</td>\n",
       "      <td>coffee_mug</td>\n",
       "      <td>overhead</td>\n",
       "      <td>coffee_mug-overhead.jpg</td>\n",
       "      <td>0</td>\n",
       "      <td>0</td>\n",
       "      <td>224</td>\n",
       "      <td>bottlecap</td>\n",
       "      <td>0.16</td>\n",
       "      <td>0</td>\n",
       "      <td>...</td>\n",
       "      <td>soup_bowl</td>\n",
       "      <td>0.47</td>\n",
       "      <td>0</td>\n",
       "      <td>cup</td>\n",
       "      <td>0.27</td>\n",
       "      <td>0</td>\n",
       "      <td>coffee_mug</td>\n",
       "      <td>0.08</td>\n",
       "      <td>1</td>\n",
       "      <td>1</td>\n",
       "    </tr>\n",
       "  </tbody>\n",
       "</table>\n",
       "<p>5 rows × 39 columns</p>\n",
       "</div>"
      ],
      "text/plain": [
       "   id       class     position                        file  \\\n",
       "0   1  coffee_mug         back         coffee_mug-back.jpg   \n",
       "1   2  coffee_mug    from_left    coffee_mug-from_left.jpg   \n",
       "2   3  coffee_mug   from_right   coffee_mug-from_right.jpg   \n",
       "3   4  coffee_mug  on_its_side  coffee_mug-on_its_side.jpg   \n",
       "4   5  coffee_mug     overhead     coffee_mug-overhead.jpg   \n",
       "\n",
       "   horizontal_symmetry  vertical_symmetry  vgg_pixels           vgg1  \\\n",
       "0                    0                  0         224            cup   \n",
       "1                    0                  0         224     coffee_mug   \n",
       "2                    0                  0         224     coffee_mug   \n",
       "3                    0                  0         224  toilet_tissue   \n",
       "4                    0                  0         224      bottlecap   \n",
       "\n",
       "   vgg1_conf  vgg1_correct  ...        NAS1  NAS1_conf  NAS1_correct  \\\n",
       "0       0.54             0  ...  coffee_mug       0.83             1   \n",
       "1       0.62             1  ...  coffee_mug       0.78             1   \n",
       "2       0.45             1  ...  coffee_mug       0.71             1   \n",
       "3       0.16             0  ...  coffee_mug       0.51             1   \n",
       "4       0.16             0  ...   soup_bowl       0.47             0   \n",
       "\n",
       "        NAS2  NAS2_conf  NAS2_correct        NAS3  NAS3_conf NAS3_correct  \\\n",
       "0        cup       0.03             0    espresso       0.00            0   \n",
       "1        cup       0.06             0    espresso       0.00            0   \n",
       "2        cup       0.11             0    espresso       0.02            0   \n",
       "3  water_jug       0.09             0     pitcher       0.07            0   \n",
       "4        cup       0.27             0  coffee_mug       0.08            1   \n",
       "\n",
       "   NAS_correct  \n",
       "0            1  \n",
       "1            1  \n",
       "2            1  \n",
       "3            1  \n",
       "4            1  \n",
       "\n",
       "[5 rows x 39 columns]"
      ]
     },
     "execution_count": 2,
     "metadata": {},
     "output_type": "execute_result"
    }
   ],
   "source": [
    "df = pd.read_csv(\"../data/convert_yes_no_to_nums.csv\")\n",
    "df.head()"
   ]
  },
  {
   "cell_type": "code",
   "execution_count": 3,
   "metadata": {},
   "outputs": [
    {
     "data": {
      "text/html": [
       "<div>\n",
       "<style scoped>\n",
       "    .dataframe tbody tr th:only-of-type {\n",
       "        vertical-align: middle;\n",
       "    }\n",
       "\n",
       "    .dataframe tbody tr th {\n",
       "        vertical-align: top;\n",
       "    }\n",
       "\n",
       "    .dataframe thead th {\n",
       "        text-align: right;\n",
       "    }\n",
       "</style>\n",
       "<table border=\"1\" class=\"dataframe\">\n",
       "  <thead>\n",
       "    <tr style=\"text-align: right;\">\n",
       "      <th></th>\n",
       "      <th>id</th>\n",
       "      <th>horizontal_symmetry</th>\n",
       "      <th>vertical_symmetry</th>\n",
       "      <th>vgg_pixels</th>\n",
       "      <th>vgg1_conf</th>\n",
       "      <th>vgg1_correct</th>\n",
       "      <th>vgg2_conf</th>\n",
       "      <th>vgg2_correct</th>\n",
       "      <th>vgg3_conf</th>\n",
       "      <th>vgg3_correct</th>\n",
       "      <th>...</th>\n",
       "      <th>incep3_correct</th>\n",
       "      <th>incep_correct</th>\n",
       "      <th>NAS_pixels</th>\n",
       "      <th>NAS1_conf</th>\n",
       "      <th>NAS1_correct</th>\n",
       "      <th>NAS2_conf</th>\n",
       "      <th>NAS2_correct</th>\n",
       "      <th>NAS3_conf</th>\n",
       "      <th>NAS3_correct</th>\n",
       "      <th>NAS_correct</th>\n",
       "    </tr>\n",
       "  </thead>\n",
       "  <tbody>\n",
       "    <tr>\n",
       "      <th>count</th>\n",
       "      <td>70.000000</td>\n",
       "      <td>70.0</td>\n",
       "      <td>70.000000</td>\n",
       "      <td>70.0</td>\n",
       "      <td>70.000000</td>\n",
       "      <td>70.000000</td>\n",
       "      <td>70.000000</td>\n",
       "      <td>70.000000</td>\n",
       "      <td>70.000000</td>\n",
       "      <td>70.000000</td>\n",
       "      <td>...</td>\n",
       "      <td>70.000000</td>\n",
       "      <td>70.000000</td>\n",
       "      <td>70.0</td>\n",
       "      <td>70.000000</td>\n",
       "      <td>70.000000</td>\n",
       "      <td>70.000000</td>\n",
       "      <td>70.000000</td>\n",
       "      <td>70.000000</td>\n",
       "      <td>70.000000</td>\n",
       "      <td>70.000000</td>\n",
       "    </tr>\n",
       "    <tr>\n",
       "      <th>mean</th>\n",
       "      <td>35.500000</td>\n",
       "      <td>0.0</td>\n",
       "      <td>0.571429</td>\n",
       "      <td>224.0</td>\n",
       "      <td>0.561857</td>\n",
       "      <td>0.485714</td>\n",
       "      <td>0.136000</td>\n",
       "      <td>0.128571</td>\n",
       "      <td>0.047714</td>\n",
       "      <td>0.057143</td>\n",
       "      <td>...</td>\n",
       "      <td>0.042857</td>\n",
       "      <td>0.785714</td>\n",
       "      <td>331.0</td>\n",
       "      <td>0.740571</td>\n",
       "      <td>0.771429</td>\n",
       "      <td>0.096000</td>\n",
       "      <td>0.114286</td>\n",
       "      <td>0.025857</td>\n",
       "      <td>0.014286</td>\n",
       "      <td>0.885714</td>\n",
       "    </tr>\n",
       "    <tr>\n",
       "      <th>std</th>\n",
       "      <td>20.351085</td>\n",
       "      <td>0.0</td>\n",
       "      <td>0.498445</td>\n",
       "      <td>0.0</td>\n",
       "      <td>0.270910</td>\n",
       "      <td>0.503405</td>\n",
       "      <td>0.124544</td>\n",
       "      <td>0.337142</td>\n",
       "      <td>0.043545</td>\n",
       "      <td>0.233791</td>\n",
       "      <td>...</td>\n",
       "      <td>0.203997</td>\n",
       "      <td>0.413289</td>\n",
       "      <td>0.0</td>\n",
       "      <td>0.198333</td>\n",
       "      <td>0.422944</td>\n",
       "      <td>0.117058</td>\n",
       "      <td>0.320455</td>\n",
       "      <td>0.046981</td>\n",
       "      <td>0.119523</td>\n",
       "      <td>0.320455</td>\n",
       "    </tr>\n",
       "    <tr>\n",
       "      <th>min</th>\n",
       "      <td>1.000000</td>\n",
       "      <td>0.0</td>\n",
       "      <td>0.000000</td>\n",
       "      <td>224.0</td>\n",
       "      <td>0.070000</td>\n",
       "      <td>0.000000</td>\n",
       "      <td>0.000000</td>\n",
       "      <td>0.000000</td>\n",
       "      <td>0.000000</td>\n",
       "      <td>0.000000</td>\n",
       "      <td>...</td>\n",
       "      <td>0.000000</td>\n",
       "      <td>0.000000</td>\n",
       "      <td>331.0</td>\n",
       "      <td>0.250000</td>\n",
       "      <td>0.000000</td>\n",
       "      <td>0.000000</td>\n",
       "      <td>0.000000</td>\n",
       "      <td>0.000000</td>\n",
       "      <td>0.000000</td>\n",
       "      <td>0.000000</td>\n",
       "    </tr>\n",
       "    <tr>\n",
       "      <th>25%</th>\n",
       "      <td>18.250000</td>\n",
       "      <td>0.0</td>\n",
       "      <td>0.000000</td>\n",
       "      <td>224.0</td>\n",
       "      <td>0.372500</td>\n",
       "      <td>0.000000</td>\n",
       "      <td>0.040000</td>\n",
       "      <td>0.000000</td>\n",
       "      <td>0.010000</td>\n",
       "      <td>0.000000</td>\n",
       "      <td>...</td>\n",
       "      <td>0.000000</td>\n",
       "      <td>1.000000</td>\n",
       "      <td>331.0</td>\n",
       "      <td>0.637500</td>\n",
       "      <td>1.000000</td>\n",
       "      <td>0.010000</td>\n",
       "      <td>0.000000</td>\n",
       "      <td>0.000000</td>\n",
       "      <td>0.000000</td>\n",
       "      <td>1.000000</td>\n",
       "    </tr>\n",
       "    <tr>\n",
       "      <th>50%</th>\n",
       "      <td>35.500000</td>\n",
       "      <td>0.0</td>\n",
       "      <td>1.000000</td>\n",
       "      <td>224.0</td>\n",
       "      <td>0.550000</td>\n",
       "      <td>0.000000</td>\n",
       "      <td>0.095000</td>\n",
       "      <td>0.000000</td>\n",
       "      <td>0.040000</td>\n",
       "      <td>0.000000</td>\n",
       "      <td>...</td>\n",
       "      <td>0.000000</td>\n",
       "      <td>1.000000</td>\n",
       "      <td>331.0</td>\n",
       "      <td>0.815000</td>\n",
       "      <td>1.000000</td>\n",
       "      <td>0.050000</td>\n",
       "      <td>0.000000</td>\n",
       "      <td>0.010000</td>\n",
       "      <td>0.000000</td>\n",
       "      <td>1.000000</td>\n",
       "    </tr>\n",
       "    <tr>\n",
       "      <th>75%</th>\n",
       "      <td>52.750000</td>\n",
       "      <td>0.0</td>\n",
       "      <td>1.000000</td>\n",
       "      <td>224.0</td>\n",
       "      <td>0.800000</td>\n",
       "      <td>1.000000</td>\n",
       "      <td>0.185000</td>\n",
       "      <td>0.000000</td>\n",
       "      <td>0.070000</td>\n",
       "      <td>0.000000</td>\n",
       "      <td>...</td>\n",
       "      <td>0.000000</td>\n",
       "      <td>1.000000</td>\n",
       "      <td>331.0</td>\n",
       "      <td>0.890000</td>\n",
       "      <td>1.000000</td>\n",
       "      <td>0.147500</td>\n",
       "      <td>0.000000</td>\n",
       "      <td>0.027500</td>\n",
       "      <td>0.000000</td>\n",
       "      <td>1.000000</td>\n",
       "    </tr>\n",
       "    <tr>\n",
       "      <th>max</th>\n",
       "      <td>70.000000</td>\n",
       "      <td>0.0</td>\n",
       "      <td>1.000000</td>\n",
       "      <td>224.0</td>\n",
       "      <td>0.990000</td>\n",
       "      <td>1.000000</td>\n",
       "      <td>0.450000</td>\n",
       "      <td>1.000000</td>\n",
       "      <td>0.210000</td>\n",
       "      <td>1.000000</td>\n",
       "      <td>...</td>\n",
       "      <td>1.000000</td>\n",
       "      <td>1.000000</td>\n",
       "      <td>331.0</td>\n",
       "      <td>0.990000</td>\n",
       "      <td>1.000000</td>\n",
       "      <td>0.460000</td>\n",
       "      <td>1.000000</td>\n",
       "      <td>0.210000</td>\n",
       "      <td>1.000000</td>\n",
       "      <td>1.000000</td>\n",
       "    </tr>\n",
       "  </tbody>\n",
       "</table>\n",
       "<p>8 rows × 27 columns</p>\n",
       "</div>"
      ],
      "text/plain": [
       "              id  horizontal_symmetry  vertical_symmetry  vgg_pixels  \\\n",
       "count  70.000000                 70.0          70.000000        70.0   \n",
       "mean   35.500000                  0.0           0.571429       224.0   \n",
       "std    20.351085                  0.0           0.498445         0.0   \n",
       "min     1.000000                  0.0           0.000000       224.0   \n",
       "25%    18.250000                  0.0           0.000000       224.0   \n",
       "50%    35.500000                  0.0           1.000000       224.0   \n",
       "75%    52.750000                  0.0           1.000000       224.0   \n",
       "max    70.000000                  0.0           1.000000       224.0   \n",
       "\n",
       "       vgg1_conf  vgg1_correct  vgg2_conf  vgg2_correct  vgg3_conf  \\\n",
       "count  70.000000     70.000000  70.000000     70.000000  70.000000   \n",
       "mean    0.561857      0.485714   0.136000      0.128571   0.047714   \n",
       "std     0.270910      0.503405   0.124544      0.337142   0.043545   \n",
       "min     0.070000      0.000000   0.000000      0.000000   0.000000   \n",
       "25%     0.372500      0.000000   0.040000      0.000000   0.010000   \n",
       "50%     0.550000      0.000000   0.095000      0.000000   0.040000   \n",
       "75%     0.800000      1.000000   0.185000      0.000000   0.070000   \n",
       "max     0.990000      1.000000   0.450000      1.000000   0.210000   \n",
       "\n",
       "       vgg3_correct  ...  incep3_correct  incep_correct  NAS_pixels  \\\n",
       "count     70.000000  ...       70.000000      70.000000        70.0   \n",
       "mean       0.057143  ...        0.042857       0.785714       331.0   \n",
       "std        0.233791  ...        0.203997       0.413289         0.0   \n",
       "min        0.000000  ...        0.000000       0.000000       331.0   \n",
       "25%        0.000000  ...        0.000000       1.000000       331.0   \n",
       "50%        0.000000  ...        0.000000       1.000000       331.0   \n",
       "75%        0.000000  ...        0.000000       1.000000       331.0   \n",
       "max        1.000000  ...        1.000000       1.000000       331.0   \n",
       "\n",
       "       NAS1_conf  NAS1_correct  NAS2_conf  NAS2_correct  NAS3_conf  \\\n",
       "count  70.000000     70.000000  70.000000     70.000000  70.000000   \n",
       "mean    0.740571      0.771429   0.096000      0.114286   0.025857   \n",
       "std     0.198333      0.422944   0.117058      0.320455   0.046981   \n",
       "min     0.250000      0.000000   0.000000      0.000000   0.000000   \n",
       "25%     0.637500      1.000000   0.010000      0.000000   0.000000   \n",
       "50%     0.815000      1.000000   0.050000      0.000000   0.010000   \n",
       "75%     0.890000      1.000000   0.147500      0.000000   0.027500   \n",
       "max     0.990000      1.000000   0.460000      1.000000   0.210000   \n",
       "\n",
       "       NAS3_correct  NAS_correct  \n",
       "count     70.000000    70.000000  \n",
       "mean       0.014286     0.885714  \n",
       "std        0.119523     0.320455  \n",
       "min        0.000000     0.000000  \n",
       "25%        0.000000     1.000000  \n",
       "50%        0.000000     1.000000  \n",
       "75%        0.000000     1.000000  \n",
       "max        1.000000     1.000000  \n",
       "\n",
       "[8 rows x 27 columns]"
      ]
     },
     "execution_count": 3,
     "metadata": {},
     "output_type": "execute_result"
    }
   ],
   "source": [
    "df.describe()"
   ]
  },
  {
   "cell_type": "code",
   "execution_count": null,
   "metadata": {},
   "outputs": [],
   "source": []
  },
  {
   "cell_type": "code",
   "execution_count": 4,
   "metadata": {},
   "outputs": [
    {
     "data": {
      "text/plain": [
       "0.6714285714285714"
      ]
     },
     "execution_count": 4,
     "metadata": {},
     "output_type": "execute_result"
    }
   ],
   "source": [
    "# Top-3 accuracy\n",
    "np.mean(df[\"vgg_correct\"])"
   ]
  },
  {
   "cell_type": "code",
   "execution_count": 5,
   "metadata": {},
   "outputs": [
    {
     "data": {
      "text/plain": [
       "0.7857142857142857"
      ]
     },
     "execution_count": 5,
     "metadata": {},
     "output_type": "execute_result"
    }
   ],
   "source": [
    "# Top-3 accuracy\n",
    "np.mean(df[\"incep_correct\"])"
   ]
  },
  {
   "cell_type": "code",
   "execution_count": 6,
   "metadata": {},
   "outputs": [
    {
     "data": {
      "text/plain": [
       "0.8857142857142857"
      ]
     },
     "execution_count": 6,
     "metadata": {},
     "output_type": "execute_result"
    }
   ],
   "source": [
    "# Top-3 accuracy\n",
    "np.mean(df[\"NAS_correct\"])"
   ]
  },
  {
   "cell_type": "code",
   "execution_count": null,
   "metadata": {},
   "outputs": [],
   "source": []
  },
  {
   "cell_type": "code",
   "execution_count": 16,
   "metadata": {},
   "outputs": [
    {
     "data": {
      "text/plain": [
       "0.4857142857142857"
      ]
     },
     "execution_count": 16,
     "metadata": {},
     "output_type": "execute_result"
    }
   ],
   "source": [
    "# Top-1 accuracy\n",
    "np.mean(df[\"vgg1_correct\"])"
   ]
  },
  {
   "cell_type": "code",
   "execution_count": 17,
   "metadata": {},
   "outputs": [
    {
     "data": {
      "text/plain": [
       "0.6285714285714286"
      ]
     },
     "execution_count": 17,
     "metadata": {},
     "output_type": "execute_result"
    }
   ],
   "source": [
    "# Top-1 accuracy\n",
    "np.mean(df[\"incep1_correct\"])"
   ]
  },
  {
   "cell_type": "code",
   "execution_count": 18,
   "metadata": {},
   "outputs": [
    {
     "data": {
      "text/plain": [
       "0.7714285714285715"
      ]
     },
     "execution_count": 18,
     "metadata": {},
     "output_type": "execute_result"
    }
   ],
   "source": [
    "# Top-1 accuracy\n",
    "np.mean(df[\"NAS1_correct\"])"
   ]
  },
  {
   "cell_type": "markdown",
   "metadata": {},
   "source": [
    "### Takeaway:\n",
    "* NASNet is the top performer, followed by Inception and then VGG"
   ]
  },
  {
   "cell_type": "code",
   "execution_count": null,
   "metadata": {},
   "outputs": [],
   "source": []
  },
  {
   "cell_type": "code",
   "execution_count": 10,
   "metadata": {},
   "outputs": [
    {
     "data": {
      "text/plain": [
       "class\n",
       "coffee_mug        0.9\n",
       "hammer            0.7\n",
       "notebook          0.5\n",
       "soap_dispenser    0.8\n",
       "sunglasses        0.0\n",
       "umbrella          0.9\n",
       "wine_bottle       0.9\n",
       "Name: vgg_correct, dtype: float64"
      ]
     },
     "execution_count": 10,
     "metadata": {},
     "output_type": "execute_result"
    }
   ],
   "source": [
    "# Top-3 accuracy by object\n",
    "df.groupby(\"class\")[\"vgg_correct\"].mean()"
   ]
  },
  {
   "cell_type": "code",
   "execution_count": 11,
   "metadata": {},
   "outputs": [
    {
     "data": {
      "text/plain": [
       "class\n",
       "coffee_mug        0.8\n",
       "hammer            0.9\n",
       "notebook          0.8\n",
       "soap_dispenser    0.7\n",
       "sunglasses        0.5\n",
       "umbrella          1.0\n",
       "wine_bottle       0.8\n",
       "Name: incep_correct, dtype: float64"
      ]
     },
     "execution_count": 11,
     "metadata": {},
     "output_type": "execute_result"
    }
   ],
   "source": [
    "# Top-3 accuracy by object\n",
    "df.groupby(\"class\")[\"incep_correct\"].mean()"
   ]
  },
  {
   "cell_type": "code",
   "execution_count": 19,
   "metadata": {},
   "outputs": [
    {
     "data": {
      "text/plain": [
       "class\n",
       "coffee_mug        1.0\n",
       "hammer            1.0\n",
       "notebook          0.9\n",
       "soap_dispenser    0.8\n",
       "sunglasses        0.6\n",
       "umbrella          1.0\n",
       "wine_bottle       0.9\n",
       "Name: NAS_correct, dtype: float64"
      ]
     },
     "execution_count": 19,
     "metadata": {},
     "output_type": "execute_result"
    }
   ],
   "source": [
    "# Top-3 accuracy by object\n",
    "df.groupby(\"class\")[\"NAS_correct\"].mean()"
   ]
  },
  {
   "cell_type": "code",
   "execution_count": null,
   "metadata": {},
   "outputs": [],
   "source": []
  },
  {
   "cell_type": "code",
   "execution_count": 24,
   "metadata": {},
   "outputs": [
    {
     "data": {
      "text/plain": [
       "class\n",
       "coffee_mug        0.6\n",
       "hammer            0.6\n",
       "notebook          0.5\n",
       "soap_dispenser    0.7\n",
       "sunglasses        0.0\n",
       "umbrella          0.8\n",
       "wine_bottle       0.2\n",
       "Name: vgg1_correct, dtype: float64"
      ]
     },
     "execution_count": 24,
     "metadata": {},
     "output_type": "execute_result"
    }
   ],
   "source": [
    "# Top-1 accuracy by object\n",
    "df.groupby(\"class\")[\"vgg1_correct\"].mean()"
   ]
  },
  {
   "cell_type": "code",
   "execution_count": 25,
   "metadata": {},
   "outputs": [
    {
     "data": {
      "text/plain": [
       "class\n",
       "coffee_mug        0.8\n",
       "hammer            0.7\n",
       "notebook          0.7\n",
       "soap_dispenser    0.3\n",
       "sunglasses        0.4\n",
       "umbrella          1.0\n",
       "wine_bottle       0.5\n",
       "Name: incep1_correct, dtype: float64"
      ]
     },
     "execution_count": 25,
     "metadata": {},
     "output_type": "execute_result"
    }
   ],
   "source": [
    "# Top-1 accuracy by object\n",
    "df.groupby(\"class\")[\"incep1_correct\"].mean()"
   ]
  },
  {
   "cell_type": "code",
   "execution_count": 26,
   "metadata": {},
   "outputs": [
    {
     "data": {
      "text/plain": [
       "class\n",
       "coffee_mug        0.9\n",
       "hammer            1.0\n",
       "notebook          0.9\n",
       "soap_dispenser    0.4\n",
       "sunglasses        0.6\n",
       "umbrella          1.0\n",
       "wine_bottle       0.6\n",
       "Name: NAS1_correct, dtype: float64"
      ]
     },
     "execution_count": 26,
     "metadata": {},
     "output_type": "execute_result"
    }
   ],
   "source": [
    "# Top-1 accuracy by object\n",
    "df.groupby(\"class\")[\"NAS1_correct\"].mean()"
   ]
  },
  {
   "cell_type": "markdown",
   "metadata": {},
   "source": [
    "### Takeaway:\n",
    "* VGG could not identify the sunglasses in any position, whereas the other models performed moderately well\n",
    "* Order of performance remains NASNet, then Inception, followed by VGG"
   ]
  },
  {
   "cell_type": "code",
   "execution_count": null,
   "metadata": {},
   "outputs": [],
   "source": []
  },
  {
   "cell_type": "code",
   "execution_count": 27,
   "metadata": {},
   "outputs": [
    {
     "data": {
      "text/plain": [
       "position\n",
       "back                   0.857143\n",
       "from_left              0.571429\n",
       "from_right             0.857143\n",
       "on_its_side            0.428571\n",
       "overhead               0.285714\n",
       "rotated_from_side      0.714286\n",
       "rotated_upside_down    0.857143\n",
       "straight_45            0.857143\n",
       "straight_on            0.857143\n",
       "upside_down            0.428571\n",
       "Name: vgg_correct, dtype: float64"
      ]
     },
     "execution_count": 27,
     "metadata": {},
     "output_type": "execute_result"
    }
   ],
   "source": [
    "# Top-3 accuracy by position\n",
    "df.groupby(\"position\")[\"vgg_correct\"].mean()"
   ]
  },
  {
   "cell_type": "code",
   "execution_count": 28,
   "metadata": {},
   "outputs": [
    {
     "data": {
      "text/plain": [
       "position\n",
       "back                   1.000000\n",
       "from_left              0.571429\n",
       "from_right             0.857143\n",
       "on_its_side            0.571429\n",
       "overhead               0.428571\n",
       "rotated_from_side      1.000000\n",
       "rotated_upside_down    1.000000\n",
       "straight_45            0.857143\n",
       "straight_on            1.000000\n",
       "upside_down            0.571429\n",
       "Name: incep_correct, dtype: float64"
      ]
     },
     "execution_count": 28,
     "metadata": {},
     "output_type": "execute_result"
    }
   ],
   "source": [
    "# Top-3 accuracy by position\n",
    "df.groupby(\"position\")[\"incep_correct\"].mean()"
   ]
  },
  {
   "cell_type": "code",
   "execution_count": 29,
   "metadata": {},
   "outputs": [
    {
     "data": {
      "text/plain": [
       "position\n",
       "back                   1.000000\n",
       "from_left              0.857143\n",
       "from_right             0.857143\n",
       "on_its_side            0.714286\n",
       "overhead               0.571429\n",
       "rotated_from_side      1.000000\n",
       "rotated_upside_down    1.000000\n",
       "straight_45            0.857143\n",
       "straight_on            1.000000\n",
       "upside_down            1.000000\n",
       "Name: NAS_correct, dtype: float64"
      ]
     },
     "execution_count": 29,
     "metadata": {},
     "output_type": "execute_result"
    }
   ],
   "source": [
    "# Top-3 accuracy by position\n",
    "df.groupby(\"position\")[\"NAS_correct\"].mean()"
   ]
  },
  {
   "cell_type": "markdown",
   "metadata": {},
   "source": [
    "### Takeaway:\n",
    "* Less sophisticated models (VGG) appear to have trouble identifying objects that are NOT in their \"normal\" postion, whereas more sophisticated models (Inception and NASNet) do not have any trouble with this"
   ]
  },
  {
   "cell_type": "code",
   "execution_count": null,
   "metadata": {},
   "outputs": [],
   "source": []
  },
  {
   "cell_type": "code",
   "execution_count": 30,
   "metadata": {},
   "outputs": [
    {
     "data": {
      "text/plain": [
       "vertical_symmetry\n",
       "0    0.800\n",
       "1    0.575\n",
       "Name: vgg_correct, dtype: float64"
      ]
     },
     "execution_count": 30,
     "metadata": {},
     "output_type": "execute_result"
    }
   ],
   "source": [
    "# Top-3 accuracy for objects that are vertically symmetric\n",
    "df.groupby(\"vertical_symmetry\")[\"vgg_correct\"].mean()"
   ]
  },
  {
   "cell_type": "code",
   "execution_count": 31,
   "metadata": {},
   "outputs": [
    {
     "data": {
      "text/plain": [
       "vertical_symmetry\n",
       "0    0.800\n",
       "1    0.775\n",
       "Name: incep_correct, dtype: float64"
      ]
     },
     "execution_count": 31,
     "metadata": {},
     "output_type": "execute_result"
    }
   ],
   "source": [
    "# Top-3 accuracy for objects that are vertically symmetric\n",
    "df.groupby(\"vertical_symmetry\")[\"incep_correct\"].mean()"
   ]
  },
  {
   "cell_type": "code",
   "execution_count": 32,
   "metadata": {},
   "outputs": [
    {
     "data": {
      "text/plain": [
       "vertical_symmetry\n",
       "0    0.933333\n",
       "1    0.850000\n",
       "Name: NAS_correct, dtype: float64"
      ]
     },
     "execution_count": 32,
     "metadata": {},
     "output_type": "execute_result"
    }
   ],
   "source": [
    "# Top-3 accuracy for objects that are vertically symmetric\n",
    "df.groupby(\"vertical_symmetry\")[\"NAS_correct\"].mean()"
   ]
  },
  {
   "cell_type": "code",
   "execution_count": null,
   "metadata": {},
   "outputs": [],
   "source": []
  },
  {
   "cell_type": "code",
   "execution_count": 33,
   "metadata": {},
   "outputs": [
    {
     "data": {
      "text/plain": [
       "vertical_symmetry\n",
       "0    0.633333\n",
       "1    0.375000\n",
       "Name: vgg1_correct, dtype: float64"
      ]
     },
     "execution_count": 33,
     "metadata": {},
     "output_type": "execute_result"
    }
   ],
   "source": [
    "# Top-1 accuracy for objects that are vertically symmetric\n",
    "df.groupby(\"vertical_symmetry\")[\"vgg1_correct\"].mean()"
   ]
  },
  {
   "cell_type": "code",
   "execution_count": 34,
   "metadata": {},
   "outputs": [
    {
     "data": {
      "text/plain": [
       "vertical_symmetry\n",
       "0    0.60\n",
       "1    0.65\n",
       "Name: incep1_correct, dtype: float64"
      ]
     },
     "execution_count": 34,
     "metadata": {},
     "output_type": "execute_result"
    }
   ],
   "source": [
    "# Top-1 accuracy for objects that are vertically symmetric\n",
    "df.groupby(\"vertical_symmetry\")[\"incep1_correct\"].mean()"
   ]
  },
  {
   "cell_type": "code",
   "execution_count": 35,
   "metadata": {},
   "outputs": [
    {
     "data": {
      "text/plain": [
       "vertical_symmetry\n",
       "0    0.766667\n",
       "1    0.775000\n",
       "Name: NAS1_correct, dtype: float64"
      ]
     },
     "execution_count": 35,
     "metadata": {},
     "output_type": "execute_result"
    }
   ],
   "source": [
    "# Top-3 accuracy for objects that are vertically symmetric\n",
    "df.groupby(\"vertical_symmetry\")[\"NAS1_correct\"].mean()"
   ]
  },
  {
   "cell_type": "markdown",
   "metadata": {},
   "source": [
    "### Takeaway:\n",
    "* The least sophisticated model (VGG) performs much worse on objects that have vertical symmetry, while this quality did not seem to have much of an impact on the performance of the other models"
   ]
  },
  {
   "cell_type": "code",
   "execution_count": null,
   "metadata": {},
   "outputs": [],
   "source": []
  }
 ],
 "metadata": {
  "kernelspec": {
   "display_name": "Conda [PythonData]",
   "language": "python",
   "name": "pythondata"
  },
  "language_info": {
   "codemirror_mode": {
    "name": "ipython",
    "version": 3
   },
   "file_extension": ".py",
   "mimetype": "text/x-python",
   "name": "python",
   "nbconvert_exporter": "python",
   "pygments_lexer": "ipython3",
   "version": "3.7.3"
  }
 },
 "nbformat": 4,
 "nbformat_minor": 2
}
